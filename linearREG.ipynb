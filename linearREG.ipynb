{
 "cells": [
  {
   "cell_type": "code",
   "execution_count": 11,
   "metadata": {
    "collapsed": true
   },
   "outputs": [],
   "source": [
    "import tensorflow as tf\n",
    "import matplotlib.pyplot as plt\n",
    "\n",
    "p = tf.constant([2.5,3.0,5.0,3.0,4.0],name ='x')\n",
    "q = tf.constant([1.5,6.0,3.5,2.0,6.0],name='y')\n",
    "\n",
    "training_epoch = 100\n",
    "learning_rate = 0.005"
   ]
  },
  {
   "cell_type": "code",
   "execution_count": 12,
   "metadata": {},
   "outputs": [
    {
     "name": "stdout",
     "output_type": "stream",
     "text": [
      "theta_0= 0.272411  theta_1= 0.890729  error= -2.36576\n",
      "theta_0= 0.303268  theta_1= 0.922577  error= -2.19281\n",
      "theta_0= 0.323381  theta_1= 0.918756  error= -2.18753\n",
      "theta_0= 0.342403  theta_1= 0.913622  error= -2.18919\n",
      "theta_0= 0.360762  theta_1= 0.908602  error= -2.19107\n",
      "theta_0= 0.378495  theta_1= 0.90375  error= -2.1929\n",
      "theta_0= 0.395625  theta_1= 0.899063  error= -2.19467\n",
      "theta_0= 0.412171  theta_1= 0.894536  error= -2.19638\n",
      "theta_0= 0.428155  theta_1= 0.890162  error= -2.19803\n",
      "theta_0= 0.443595  theta_1= 0.885938  error= -2.19962\n",
      "Optimized\n"
     ]
    }
   ],
   "source": [
    "t1=0.0\n",
    "t0=0.0\n",
    "with tf.Session() as sess:\n",
    "    for epoch in range (training_epoch):\n",
    "        for i in range (0,5):\n",
    "            x1=tf.multiply(t1,x[i])\n",
    "            pred=tf.add(t0,x1)\n",
    "            error=tf.subtract(pred,y[i])\n",
    "            e2=tf.square(error)\n",
    "            t0=tf.subtract(t0,tf.multiply(learning_rate,error))\n",
    "            t1=tf.subtract(t1,tf.multiply(learning_rate,tf.multiply(error,x[i])))\n",
    "        if (epoch+1) % 10 == 0:\n",
    "            print(\"theta_0=\",sess.run(t0),\" theta_1=\",sess.run(t1),\" error=\",sess.run(error))\n",
    "    print(\"Optimized\")\n",
    "\n"
   ]
  },
  {
   "cell_type": "code",
   "execution_count": 13,
   "metadata": {},
   "outputs": [
    {
     "data": {
      "image/png": "[encoded data removed]",
      "text/plain": [
       "<matplotlib.figure.Figure at 0x7f88023f2940>"
      ]
     },
     "metadata": {},
     "output_type": "display_data"
    }
   ],
   "source": [
    "sess=tf.Session()\n",
    "x1=sess.run(p)\n",
    "y1=sess.run(q)\n",
    "plt.plot(x1, y1, 'ro', label='Original data')\n",
    "plt.plot(x1, sess.run(t1) * x1 + sess.run(t0), label='Fitted line')\n",
    "plt.legend()\n",
    "plt.show()\n"
   ]
  },
  {
   "cell_type": "code",
   "execution_count": null,
   "metadata": {
    "collapsed": true
   },
   "outputs": [],
   "source": []
  }
 ],
 "metadata": {
  "kernelspec": {
   "display_name": "Python 3",
   "language": "python",
   "name": "python3"
  },
  "language_info": {
   "codemirror_mode": {
    "name": "ipython",
    "version": 3
   },
   "file_extension": ".py",
   "mimetype": "text/x-python",
   "name": "python",
   "nbconvert_exporter": "python",
   "pygments_lexer": "ipython3",
   "version": "3.6.1"
  }
 },
 "nbformat": 4,
 "nbformat_minor": 2
}
