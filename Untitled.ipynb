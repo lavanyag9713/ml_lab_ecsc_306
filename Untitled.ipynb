{
 "cells": [
  {
   "cell_type": "code",
   "execution_count": 1,
   "metadata": {},
   "outputs": [
    {
     "name": "stdout",
     "output_type": "stream",
     "text": [
      "9\n"
     ]
    }
   ],
   "source": [
    "import tensorflow as tf\n",
    "\n",
    "a=tf.constant(5)\n",
    "b=tf.constant(2)\n",
    "\n",
    "\n",
    "c=tf.square(a)\n",
    "d=tf.square(b)\n",
    "e=tf.add(c,d)\n",
    "f=tf.multiply(a,b)\n",
    "g=tf.multiply(f,2)\n",
    "l=tf.subtract(e,g)\n",
    "\n",
    "sess=tf.Session()\n",
    "print(sess.run(l))\n",
    "writer = tf.summary.FileWriter(\"/tmp/tboard/output_l3\", sess.graph)"
   ]
  },
  {
   "cell_type": "code",
   "execution_count": 2,
   "metadata": {},
   "outputs": [
    {
     "name": "stdout",
     "output_type": "stream",
     "text": [
      "133\n"
     ]
    }
   ],
   "source": [
    "import tensorflow as tf\n",
    "\n",
    "a=tf.constant(5)\n",
    "b=tf.constant(2)\n",
    "\n",
    "\n",
    "c=tf.square(a)\n",
    "d=tf.square(b)\n",
    "e=tf.add(c,d)\n",
    "f=tf.multiply(a,b)\n",
    "g=tf.subtract(e,f)\n",
    "l=tf.add(a,b)\n",
    "\n",
    "l1=tf.multiply(l,g)\n",
    "\n",
    "sess=tf.Session()\n",
    "print(sess.run(l1))\n",
    "writer = tf.summary.FileWriter(\"/tmp/tboard/output_l4\", sess.graph)"
   ]
  },
  {
   "cell_type": "code",
   "execution_count": null,
   "metadata": {
    "collapsed": true
   },
   "outputs": [],
   "source": []
  }
 ],
 "metadata": {
  "kernelspec": {
   "display_name": "Python 3",
   "language": "python",
   "name": "python3"
  },
  "language_info": {
   "codemirror_mode": {
    "name": "ipython",
    "version": 3
   },
   "file_extension": ".py",
   "mimetype": "text/x-python",
   "name": "python",
   "nbconvert_exporter": "python",
   "pygments_lexer": "ipython3",
   "version": "3.6.2"
  }
 },
 "nbformat": 4,
 "nbformat_minor": 2
}
