{
 "cells": [
  {
   "cell_type": "code",
   "execution_count": 1,
   "metadata": {},
   "outputs": [
    {
     "name": "stdout",
     "output_type": "stream",
     "text": [
      "mean of a and b\n",
      "3.2075\n",
      "6.625\n",
      "[[-0.87750006 -0.20749998  0.29250002  0.79250002]]\n",
      "[[-2.125 -0.125  0.375  1.875]]\n",
      "[[ 0.77000636  0.04305624  0.08555626  0.62805629]]\n",
      "variance\n",
      "1.52668\n",
      "[[ 10.48499966  19.5         24.5         34.        ]]\n",
      "covariance\n",
      "88.485\n"
     ]
    }
   ],
   "source": [
    "import tensorflow as tf\n",
    "import tensorflow as tf\n",
    "\n",
    "a=tf.constant([2.33,3.0,3.5,4.0],shape=[1,4],name='x')\n",
    "b=tf.constant([4.5,6.5,7.0,8.5],shape=[1,4],name='y')\n",
    "with tf.name_scope(\"mean\"):\n",
    "    with tf.name_scope(\"mean_x_y\"):\n",
    "        x1=tf.reduce_mean(a)\n",
    "        y1=tf.reduce_mean(b)\n",
    "        sess=tf.Session()\n",
    "    print(\"mean of a and b\")    \n",
    "    print(sess.run(x1))\n",
    "    print(sess.run(y1))\n",
    "    \n",
    "with tf.name_scope(\"variance\"):\n",
    "    with tf.name_scope(\"scope_sub1\"):\n",
    "        x=tf.subtract(a,x1)\n",
    "        sess1=tf.Session()\n",
    "    print(sess1.run(x))\n",
    "    with tf.name_scope(\"scope_sub2\"):\n",
    "        y=tf.subtract(b,y1)\n",
    "        sess2=tf.Session()\n",
    "    print(sess2.run(y))\n",
    "    with tf.name_scope(\"scope_square\"):\n",
    "        a1=tf.multiply(x,x)\n",
    "        sess3=tf.Session()\n",
    "    print(sess3.run(a1))\n",
    "    with tf.name_scope(\"scope_summation\"):\n",
    "        var=tf.reduce_sum(a1)\n",
    "        sess4=tf.Session()\n",
    "    print(\"variance\")\n",
    "    print(sess4.run(var))\n",
    "    \n",
    "with tf.name_scope(\"covariance\"):\n",
    "    with tf.name_scope(\"multiplication\"):\n",
    "        mul1=tf.multiply(a,b)\n",
    "        sess5=tf.Session()\n",
    "    print(sess5.run(mul1))\n",
    "    with tf.name_scope(\"scope_summation2\"):\n",
    "        covar=tf.reduce_sum(mul1)\n",
    "        sess6=tf.Session()\n",
    "    print(\"covariance\")\n",
    "    print(sess6.run(covar))"
   ]
  },
  {
   "cell_type": "code",
   "execution_count": 6,
   "metadata": {},
   "outputs": [
    {
     "name": "stdout",
     "output_type": "stream",
     "text": [
      "1\n"
     ]
    }
   ],
   "source": [
    "##(a+b)^2\n",
    "\n",
    "import tensorflow as tf\n",
    "v1=tf.constant(3)\n",
    "v2=tf.constant(4)\n",
    "with tf.name_scope(\"MyOperationGroup\"):\n",
    "    with tf.name_scope(\"Scope_A\"):\n",
    "        a = tf.multiply(v1,v1)\n",
    "        b = tf.multiply(v2,v2)\n",
    "with tf.name_scope(\"Scope_B\"):\n",
    "    c = tf.add(a, b, name=\"And_These_ones\")\n",
    "    d = tf.multiply(v1, v2, name=\"Multiply_these_numbers\")\n",
    "\n",
    "with tf.name_scope(\"Scope_C\"):\n",
    "    e = tf.multiply(2, d, name=\"B_add\")\n",
    "\n",
    "g = tf.subtract(c,e)\n",
    "\n",
    "\n",
    "with tf.Session() as sess:\n",
    "    writer = tf.summary.FileWriter(\"/tmp/tboard/output_la1\", sess.graph)\n",
    "    print(sess.run(g))\n",
    "    writer.close()"
   ]
  },
  {
   "cell_type": "code",
   "execution_count": 8,
   "metadata": {},
   "outputs": [
    {
     "name": "stdout",
     "output_type": "stream",
     "text": [
      "91\n"
     ]
    }
   ],
   "source": [
    "import tensorflow as tf\n",
    "v3=tf.constant(3)\n",
    "v4=tf.constant(2)\n",
    "with tf.name_scope(\"MyOperationGroup\"):\n",
    "    with tf.name_scope(\"Scope_A\"):\n",
    "        a = tf.multiply(v1,v1) \n",
    "        b = tf.multiply(v2,v2)   \n",
    "with tf.name_scope(\"Scope_B\"):\n",
    "    c = tf.add(a, b, name=\"And_These_ones\")\n",
    "    d = tf.multiply(v1, v2, name=\"Multiply_these_numbers\")\n",
    "\n",
    "with tf.name_scope(\"Scope_C\"):\n",
    "    e=tf.subtract(c,d, name=\"subtrating\")\n",
    "    #e = tf.multiply(2, d, name=\"B_add\")\n",
    "    f=tf.add(v1,v2)\n",
    "    \n",
    "with tf.name_scope(\"Scope_D\"):\n",
    "    g = tf.multiply(f,e)\n",
    "\n",
    "\n",
    "with tf.Session() as sess:\n",
    "    writer = tf.summary.FileWriter(\"/tmp/tboard/output_la2\", sess.graph)\n",
    "    print(sess.run(g))\n",
    "    writer.close()"
   ]
  },
  {
   "cell_type": "code",
   "execution_count": null,
   "metadata": {
    "collapsed": true
   },
   "outputs": [],
   "source": []
  }
 ],
 "metadata": {
  "kernelspec": {
   "display_name": "Python 3",
   "language": "python",
   "name": "python3"
  },
  "language_info": {
   "codemirror_mode": {
    "name": "ipython",
    "version": 3
   },
   "file_extension": ".py",
   "mimetype": "text/x-python",
   "name": "python",
   "nbconvert_exporter": "python",
   "pygments_lexer": "ipython3",
   "version": "3.6.1"
  }
 },
 "nbformat": 4,
 "nbformat_minor": 2
}
