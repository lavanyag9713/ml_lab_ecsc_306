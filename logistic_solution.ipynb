{
 "cells": [
  {
   "cell_type": "code",
   "execution_count": 1,
   "metadata": {},
   "outputs": [
    {
     "name": "stdout",
     "output_type": "stream",
     "text": [
      "h0 values: 0.5\n",
      "1.0\n",
      "Cost function: -inf\n",
      "W :  0.695    b :  0.0514286\n",
      "W :  0.894181    b :  -0.0111606\n",
      "W :  0.899939    b :  -0.0866611\n",
      "W :  0.905561    b :  -0.160376\n",
      "W :  0.91105    b :  -0.232347\n",
      "W :  0.916408    b :  -0.302615\n",
      "W :  0.921641    b :  -0.371221\n",
      "W :  0.926749    b :  -0.438205\n",
      "W :  0.931737    b :  -0.503604\n",
      "W :  0.936606    b :  -0.567456\n",
      "After 500 epoch values:\n",
      "W :  0.941267\n",
      "b :  -0.628566\n"
     ]
    }
   ],
   "source": [
    "import tensorflow as tf\n",
    "import matplotlib.pyplot as plt\n",
    "\n",
    "a1 = tf.constant([10.0,12.0,14.0,6.0,8.0,15.0,18.0],name ='x')\n",
    "b1 = tf.constant([7.0,11.0,11.0,4.0,7.0,13.0,19.0],name='y')\n",
    "training_epoch = 500\n",
    "learning_rate = 0.005\n",
    "stp=50\n",
    "t1=0.0\n",
    "t0=0.0\n",
    "\n",
    "h0=tf.divide(1.0,tf.add(1.0,tf.exp(-tf.add(t0,tf.reduce_sum(tf.multiply(t1,a1))))))\n",
    "model=tf.global_variables_initializer()\n",
    "sess = tf.Session() \n",
    "print(\"h0 values:\",sess.run(h0))\n",
    "c=tf.cond(h0<0.5,lambda:0.00,lambda:1.00)\n",
    "print(sess.run(c))\n",
    "\n",
    "\n",
    "#cost function\n",
    "v=tf.multiply(b1,tf.log(c))\n",
    "n=tf.subtract(1.0,b1)\n",
    "m=tf.log(tf.subtract(1.0,c))\n",
    "m1=tf.multiply(n,m)\n",
    "m2=tf.reduce_sum(tf.subtract(-v,m1))\n",
    "print(\"Cost function:\",sess.run(m2))\n",
    "\n",
    "sess = tf.Session()\n",
    "\n",
    "for epoch in range(training_epoch):\n",
    "    \n",
    "                                #if error is greater than threshold value then stop the iteration\n",
    "    s1=tf.reduce_sum(tf.multiply(tf.subtract(tf.add(tf.multiply(a1,t1),t0),b1),a1))\n",
    "    s0=tf.reduce_sum(tf.subtract(tf.add(tf.multiply(a1,t1),t0),b1))\n",
    "    tn1 = tf.subtract(t1,tf.multiply(learning_rate,tf.divide(s1,tf.cast(tf.size(a1),tf.float32))))\n",
    "    tn0=  tf.subtract(t0,tf.multiply(learning_rate,tf.divide(s0,tf.cast(tf.size(a1),tf.float32))))\n",
    "    t1=tn1\n",
    "    t0=tn0\n",
    "    model=tf.global_variables_initializer()\n",
    "    if (epoch%stp==0):\n",
    "        print(\"W : \",sess.run(tn1),\"   b : \",sess.run(tn0))\n",
    "\n",
    "    \n",
    "\n",
    "print(\"After 500 epoch values:\")\n",
    "print(\"W : \",sess.run(tn1))\n",
    "print(\"b : \",sess.run(tn0))"
   ]
  },
  {
   "cell_type": "code",
   "execution_count": null,
   "metadata": {
    "collapsed": true
   },
   "outputs": [],
   "source": []
  }
 ],
 "metadata": {
  "kernelspec": {
   "display_name": "Python 3",
   "language": "python",
   "name": "python3"
  },
  "language_info": {
   "codemirror_mode": {
    "name": "ipython",
    "version": 3
   },
   "file_extension": ".py",
   "mimetype": "text/x-python",
   "name": "python",
   "nbconvert_exporter": "python",
   "pygments_lexer": "ipython3",
   "version": "3.6.1"
  }
 },
 "nbformat": 4,
 "nbformat_minor": 2
}
